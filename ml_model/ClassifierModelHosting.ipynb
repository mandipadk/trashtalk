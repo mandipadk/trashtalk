{
  "nbformat": 4,
  "nbformat_minor": 0,
  "metadata": {
    "colab": {
      "provenance": [],
      "gpuType": "T4"
    },
    "kernelspec": {
      "name": "python3",
      "display_name": "Python 3"
    },
    "language_info": {
      "name": "python"
    },
    "accelerator": "GPU"
  },
  "cells": [
    {
      "cell_type": "code",
      "execution_count": null,
      "metadata": {
        "id": "Uo2n4Oyo_7Ze"
      },
      "outputs": [],
      "source": [
        "import tensorflow as tf\n",
        "import matplotlib.pyplot as plt\n",
        "import numpy as np\n",
        "\n",
        "\n",
        "batch_size = 32\n",
        "img_height = 256\n",
        "img_width = 256\n",
        "\n",
        "model = tf.keras.models.load_model('/content/drive/MyDrive/garbage_data_classifier_final.keras')\n",
        "\n",
        "class_names = ['battery', 'biological', 'cardboard', 'clothes', 'glass', 'metal', 'paper', 'plastic', 'shoes', 'trash']\n",
        "\n",
        "def make_predictions(image):\n",
        "  img = tf.keras.utils.load_img(image, target_size=(img_height, img_width))\n",
        "  img_array = tf.keras.utils.img_to_array(img)\n",
        "  img_array = tf.expand_dims(img_array, 0)\n",
        "\n",
        "  predictions = model.predict(img_array)\n",
        "  score = tf.nn.softmax(predictions[0])\n",
        "\n",
        "  return (class_names[np.argmax(score)], round(100*np.max(score),2))"
      ]
    },
    {
      "cell_type": "code",
      "source": [
        "!curl -o x.jpg  https://d12oja0ew7x0i8.cloudfront.net/images/news/ImageForNews_57550_16384609870983582.jpg"
      ],
      "metadata": {
        "colab": {
          "base_uri": "https://localhost:8080/"
        },
        "id": "fuRlywBEAPpY",
        "outputId": "3704ae26-f662-485d-b24a-1fc9fee32a05"
      },
      "execution_count": null,
      "outputs": [
        {
          "output_type": "stream",
          "name": "stdout",
          "text": [
            "  % Total    % Received % Xferd  Average Speed   Time    Time     Time  Current\n",
            "                                 Dload  Upload   Total   Spent    Left  Speed\n",
            "\r  0     0    0     0    0     0      0      0 --:--:-- --:--:-- --:--:--     0\r100  176k  100  176k    0     0   898k      0 --:--:-- --:--:-- --:--:--  900k\n"
          ]
        }
      ]
    },
    {
      "cell_type": "code",
      "source": [
        "make_predictions('x.jpg')"
      ],
      "metadata": {
        "colab": {
          "base_uri": "https://localhost:8080/"
        },
        "id": "RZ-FeE0vAbQ3",
        "outputId": "d378da0b-f6ab-4986-a191-7d390d712757"
      },
      "execution_count": null,
      "outputs": [
        {
          "output_type": "stream",
          "name": "stdout",
          "text": [
            "1/1 [==============================] - 0s 79ms/step\n"
          ]
        },
        {
          "output_type": "execute_result",
          "data": {
            "text/plain": [
              "('paper', 43.98)"
            ]
          },
          "metadata": {},
          "execution_count": 39
        }
      ]
    },
    {
      "cell_type": "code",
      "source": [
        "from flask import Flask, jsonify, request, render_template\n",
        "from threading import Thread\n",
        "from PIL import Image\n",
        "import io\n",
        "import os\n",
        "import base64\n",
        "\n",
        "app = Flask(__name__)\n",
        "\n",
        "@app.route(\"/\")\n",
        "def hello_world():\n",
        "    return \"<p>Hello, World!</p>\"\n",
        "\n",
        "@app.route('/process_image', methods=['POST'])\n",
        "def process_image():\n",
        "  image_data = request.get_json()['imageData']\n",
        "  print(request.method)\n",
        "  if isinstance(image_data, str):\n",
        "    image_data_split = image_data.split('base64,')[1]\n",
        "    print(\"-----------------------------------------\")\n",
        "    decoded_image_data = base64.b64decode(image_data_split)\n",
        "    image = Image.open(io.BytesIO(decoded_image_data))\n",
        "  else:\n",
        "    image = Image.open(io.BytesIO(image_data))\n",
        "\n",
        "  if not os.path.exists('img/'):\n",
        "    os.makedirs('img/')\n",
        "\n",
        "  image.save(os.path.join('img/', 'image.jpg'))\n",
        "  predictions, confidence = make_predictions('img/image.jpg')\n",
        "  return {\"predictions\":predictions, \"confidence\": confidence}"
      ],
      "metadata": {
        "id": "cFRe5ucKAcmc"
      },
      "execution_count": null,
      "outputs": []
    },
    {
      "cell_type": "code",
      "source": [
        "!nohup ssh -p 443 -o StrictHostKeyChecking=no -R0:localhost:5000 a.pinggy.io -T &"
      ],
      "metadata": {
        "colab": {
          "base_uri": "https://localhost:8080/"
        },
        "id": "h89Vk72VAvB4",
        "outputId": "bbdac4fd-3e6d-412a-9220-7ba5e12903f4"
      },
      "execution_count": null,
      "outputs": [
        {
          "output_type": "stream",
          "name": "stdout",
          "text": [
            "nohup: appending output to 'nohup.out'\n"
          ]
        }
      ]
    },
    {
      "cell_type": "code",
      "source": [
        "!cat nohup.out"
      ],
      "metadata": {
        "colab": {
          "base_uri": "https://localhost:8080/"
        },
        "id": "mTFtenvDAyt1",
        "outputId": "03a5aa92-c246-4b70-fee1-c9977b4bb563"
      },
      "execution_count": null,
      "outputs": [
        {
          "output_type": "stream",
          "name": "stdout",
          "text": [
            "Warning: Permanently added '[a.pinggy.io]:443' (RSA) to the list of known hosts.\r\n",
            "Allocated port 1 for remote forward to localhost:5000\r\n",
            "You are not authenticated.\n",
            "Your tunnel will expire in 60 minutes. Upgrade to Pinggy Pro to get unrestricted tunnels. https://dashboard.pinggy.io\n",
            "http://rnhsc-34-141-131-2.a.free.pinggy.online\n",
            "https://rnhsc-34-141-131-2.a.free.pinggy.online\n",
            "http://rnhsc-34-141-131-2.a.free.pinggy.link\n",
            "https://rnhsc-34-141-131-2.a.free.pinggy.link\n",
            "connect_to localhost port 5000: failed.\r\n",
            "\rRB: 0, SB: 0, TC: 1, AC: 1               \rRB: 0, SB: 0, TC: 1, AC: 0               Allocated port 8 for remote forward to localhost:5000\r\n",
            "You are not authenticated.\n",
            "Your tunnel will expire in 60 minutes. Upgrade to Pinggy Pro to get unrestricted tunnels. https://dashboard.pinggy.io\n",
            "http://rnarb-34-141-131-2.a.free.pinggy.online\n",
            "https://rnarb-34-141-131-2.a.free.pinggy.online\n",
            "http://rnarb-34-141-131-2.a.free.pinggy.link\n",
            "https://rnarb-34-141-131-2.a.free.pinggy.link\n",
            "Allocated port 3 for remote forward to localhost:5000\r\n",
            "You are not authenticated.\n",
            "Your tunnel will expire in 60 minutes. Upgrade to Pinggy Pro to get unrestricted tunnels. https://dashboard.pinggy.io\n",
            "http://rnocd-34-141-131-2.a.free.pinggy.online\n",
            "https://rnocd-34-141-131-2.a.free.pinggy.online\n",
            "http://rnocd-34-141-131-2.a.free.pinggy.link\n",
            "https://rnocd-34-141-131-2.a.free.pinggy.link\n"
          ]
        }
      ]
    },
    {
      "cell_type": "code",
      "source": [
        "app.run()"
      ],
      "metadata": {
        "colab": {
          "base_uri": "https://localhost:8080/"
        },
        "id": "JN7Q256nAzi_",
        "outputId": "d169aebb-0359-4979-c342-3dbb92bcc85f"
      },
      "execution_count": null,
      "outputs": [
        {
          "output_type": "stream",
          "name": "stdout",
          "text": [
            " * Serving Flask app '__main__'\n",
            " * Debug mode: off\n"
          ]
        },
        {
          "output_type": "stream",
          "name": "stderr",
          "text": [
            "INFO:werkzeug:\u001b[31m\u001b[1mWARNING: This is a development server. Do not use it in a production deployment. Use a production WSGI server instead.\u001b[0m\n",
            " * Running on http://127.0.0.1:5000\n",
            "INFO:werkzeug:\u001b[33mPress CTRL+C to quit\u001b[0m\n"
          ]
        },
        {
          "output_type": "stream",
          "name": "stdout",
          "text": [
            "POST\n",
            "-----------------------------------------\n",
            "POST\n",
            "-----------------------------------------\n",
            "POST\n",
            "-----------------------------------------\n",
            "1/1 [==============================] - 6s 6s/step\n",
            "1/1 [==============================] - 7s 7s/step\n"
          ]
        },
        {
          "output_type": "stream",
          "name": "stderr",
          "text": [
            "INFO:werkzeug:127.0.0.1 - - [17/Nov/2023 23:41:45] \"POST /process_image HTTP/1.1\" 200 -\n"
          ]
        },
        {
          "output_type": "stream",
          "name": "stdout",
          "text": [
            "1/1 [==============================] - 4s 4s/step\n"
          ]
        },
        {
          "output_type": "stream",
          "name": "stderr",
          "text": [
            "INFO:werkzeug:127.0.0.1 - - [17/Nov/2023 23:41:45] \"POST /process_image HTTP/1.1\" 200 -\n",
            "INFO:werkzeug:127.0.0.1 - - [17/Nov/2023 23:41:45] \"POST /process_image HTTP/1.1\" 200 -\n"
          ]
        },
        {
          "output_type": "stream",
          "name": "stdout",
          "text": [
            "POST\n",
            "-----------------------------------------\n",
            "1/1 [==============================] - 0s 20ms/step\n"
          ]
        },
        {
          "output_type": "stream",
          "name": "stderr",
          "text": [
            "INFO:werkzeug:127.0.0.1 - - [17/Nov/2023 23:46:24] \"POST /process_image HTTP/1.1\" 200 -\n"
          ]
        },
        {
          "output_type": "stream",
          "name": "stdout",
          "text": [
            "POST\n",
            "-----------------------------------------\n",
            "1/1 [==============================] - 0s 18ms/step\n"
          ]
        },
        {
          "output_type": "stream",
          "name": "stderr",
          "text": [
            "INFO:werkzeug:127.0.0.1 - - [17/Nov/2023 23:46:25] \"POST /process_image HTTP/1.1\" 200 -\n"
          ]
        },
        {
          "output_type": "stream",
          "name": "stdout",
          "text": [
            "POST\n",
            "-----------------------------------------\n",
            "1/1 [==============================] - 0s 18ms/step\n"
          ]
        },
        {
          "output_type": "stream",
          "name": "stderr",
          "text": [
            "INFO:werkzeug:127.0.0.1 - - [17/Nov/2023 23:46:27] \"POST /process_image HTTP/1.1\" 200 -\n"
          ]
        },
        {
          "output_type": "stream",
          "name": "stdout",
          "text": [
            "POST\n",
            "-----------------------------------------\n",
            "1/1 [==============================] - 0s 25ms/step\n"
          ]
        },
        {
          "output_type": "stream",
          "name": "stderr",
          "text": [
            "INFO:werkzeug:127.0.0.1 - - [17/Nov/2023 23:46:30] \"POST /process_image HTTP/1.1\" 200 -\n"
          ]
        },
        {
          "output_type": "stream",
          "name": "stdout",
          "text": [
            "POST\n",
            "-----------------------------------------\n",
            "1/1 [==============================] - 0s 27ms/step\n"
          ]
        },
        {
          "output_type": "stream",
          "name": "stderr",
          "text": [
            "INFO:werkzeug:127.0.0.1 - - [17/Nov/2023 23:46:31] \"POST /process_image HTTP/1.1\" 200 -\n"
          ]
        },
        {
          "output_type": "stream",
          "name": "stdout",
          "text": [
            "POST\n",
            "-----------------------------------------\n",
            "1/1 [==============================] - 0s 19ms/step\n"
          ]
        },
        {
          "output_type": "stream",
          "name": "stderr",
          "text": [
            "INFO:werkzeug:127.0.0.1 - - [17/Nov/2023 23:46:33] \"POST /process_image HTTP/1.1\" 200 -\n"
          ]
        },
        {
          "output_type": "stream",
          "name": "stdout",
          "text": [
            "POST\n",
            "-----------------------------------------\n",
            "1/1 [==============================] - 0s 20ms/step\n"
          ]
        },
        {
          "output_type": "stream",
          "name": "stderr",
          "text": [
            "INFO:werkzeug:127.0.0.1 - - [17/Nov/2023 23:46:35] \"POST /process_image HTTP/1.1\" 200 -\n"
          ]
        },
        {
          "output_type": "stream",
          "name": "stdout",
          "text": [
            "POST\n",
            "-----------------------------------------\n",
            "1/1 [==============================] - 0s 18ms/step\n"
          ]
        },
        {
          "output_type": "stream",
          "name": "stderr",
          "text": [
            "INFO:werkzeug:127.0.0.1 - - [17/Nov/2023 23:46:37] \"POST /process_image HTTP/1.1\" 200 -\n"
          ]
        },
        {
          "output_type": "stream",
          "name": "stdout",
          "text": [
            "POST\n",
            "-----------------------------------------\n",
            "1/1 [==============================] - 0s 20ms/step\n"
          ]
        },
        {
          "output_type": "stream",
          "name": "stderr",
          "text": [
            "INFO:werkzeug:127.0.0.1 - - [17/Nov/2023 23:46:39] \"POST /process_image HTTP/1.1\" 200 -\n"
          ]
        },
        {
          "output_type": "stream",
          "name": "stdout",
          "text": [
            "POST\n",
            "-----------------------------------------\n",
            "1/1 [==============================] - 0s 19ms/step\n"
          ]
        },
        {
          "output_type": "stream",
          "name": "stderr",
          "text": [
            "INFO:werkzeug:127.0.0.1 - - [17/Nov/2023 23:46:41] \"POST /process_image HTTP/1.1\" 200 -\n"
          ]
        },
        {
          "output_type": "stream",
          "name": "stdout",
          "text": [
            "POST\n",
            "-----------------------------------------\n",
            "1/1 [==============================] - 0s 26ms/step\n"
          ]
        },
        {
          "output_type": "stream",
          "name": "stderr",
          "text": [
            "INFO:werkzeug:127.0.0.1 - - [17/Nov/2023 23:46:43] \"POST /process_image HTTP/1.1\" 200 -\n"
          ]
        },
        {
          "output_type": "stream",
          "name": "stdout",
          "text": [
            "POST\n",
            "-----------------------------------------\n",
            "1/1 [==============================] - 0s 28ms/step\n"
          ]
        },
        {
          "output_type": "stream",
          "name": "stderr",
          "text": [
            "INFO:werkzeug:127.0.0.1 - - [17/Nov/2023 23:46:45] \"POST /process_image HTTP/1.1\" 200 -\n"
          ]
        },
        {
          "output_type": "stream",
          "name": "stdout",
          "text": [
            "POST\n",
            "-----------------------------------------\n",
            "1/1 [==============================] - 0s 17ms/step\n"
          ]
        },
        {
          "output_type": "stream",
          "name": "stderr",
          "text": [
            "INFO:werkzeug:127.0.0.1 - - [17/Nov/2023 23:46:48] \"POST /process_image HTTP/1.1\" 200 -\n"
          ]
        },
        {
          "output_type": "stream",
          "name": "stdout",
          "text": [
            "POST\n",
            "-----------------------------------------\n",
            "1/1 [==============================] - 0s 19ms/step\n"
          ]
        },
        {
          "output_type": "stream",
          "name": "stderr",
          "text": [
            "INFO:werkzeug:127.0.0.1 - - [17/Nov/2023 23:46:49] \"POST /process_image HTTP/1.1\" 200 -\n"
          ]
        },
        {
          "output_type": "stream",
          "name": "stdout",
          "text": [
            "POST\n",
            "-----------------------------------------\n",
            "1/1 [==============================] - 0s 20ms/step\n"
          ]
        },
        {
          "output_type": "stream",
          "name": "stderr",
          "text": [
            "INFO:werkzeug:127.0.0.1 - - [17/Nov/2023 23:46:51] \"POST /process_image HTTP/1.1\" 200 -\n"
          ]
        },
        {
          "output_type": "stream",
          "name": "stdout",
          "text": [
            "POST\n",
            "-----------------------------------------\n",
            "1/1 [==============================] - 0s 17ms/step\n"
          ]
        },
        {
          "output_type": "stream",
          "name": "stderr",
          "text": [
            "INFO:werkzeug:127.0.0.1 - - [17/Nov/2023 23:46:53] \"POST /process_image HTTP/1.1\" 200 -\n"
          ]
        },
        {
          "output_type": "stream",
          "name": "stdout",
          "text": [
            "POST\n",
            "-----------------------------------------\n",
            "1/1 [==============================] - 0s 22ms/step\n"
          ]
        },
        {
          "output_type": "stream",
          "name": "stderr",
          "text": [
            "INFO:werkzeug:127.0.0.1 - - [17/Nov/2023 23:46:55] \"POST /process_image HTTP/1.1\" 200 -\n"
          ]
        },
        {
          "output_type": "stream",
          "name": "stdout",
          "text": [
            "POST\n",
            "-----------------------------------------\n",
            "1/1 [==============================] - 0s 28ms/step\n"
          ]
        },
        {
          "output_type": "stream",
          "name": "stderr",
          "text": [
            "INFO:werkzeug:127.0.0.1 - - [17/Nov/2023 23:46:57] \"POST /process_image HTTP/1.1\" 200 -\n"
          ]
        },
        {
          "output_type": "stream",
          "name": "stdout",
          "text": [
            "POST\n",
            "-----------------------------------------\n",
            "1/1 [==============================] - 0s 27ms/step\n"
          ]
        },
        {
          "output_type": "stream",
          "name": "stderr",
          "text": [
            "INFO:werkzeug:127.0.0.1 - - [17/Nov/2023 23:47:00] \"POST /process_image HTTP/1.1\" 200 -\n"
          ]
        },
        {
          "output_type": "stream",
          "name": "stdout",
          "text": [
            "POST\n",
            "-----------------------------------------\n",
            "1/1 [==============================] - 0s 20ms/step\n"
          ]
        },
        {
          "output_type": "stream",
          "name": "stderr",
          "text": [
            "INFO:werkzeug:127.0.0.1 - - [17/Nov/2023 23:47:01] \"POST /process_image HTTP/1.1\" 200 -\n"
          ]
        },
        {
          "output_type": "stream",
          "name": "stdout",
          "text": [
            "POST\n",
            "-----------------------------------------\n",
            "1/1 [==============================] - 0s 21ms/step\n"
          ]
        },
        {
          "output_type": "stream",
          "name": "stderr",
          "text": [
            "INFO:werkzeug:127.0.0.1 - - [17/Nov/2023 23:47:03] \"POST /process_image HTTP/1.1\" 200 -\n"
          ]
        },
        {
          "output_type": "stream",
          "name": "stdout",
          "text": [
            "POST\n",
            "-----------------------------------------\n",
            "1/1 [==============================] - 0s 19ms/step\n"
          ]
        },
        {
          "output_type": "stream",
          "name": "stderr",
          "text": [
            "INFO:werkzeug:127.0.0.1 - - [17/Nov/2023 23:47:05] \"POST /process_image HTTP/1.1\" 200 -\n"
          ]
        },
        {
          "output_type": "stream",
          "name": "stdout",
          "text": [
            "POST\n",
            "-----------------------------------------\n",
            "1/1 [==============================] - 0s 18ms/step\n"
          ]
        },
        {
          "output_type": "stream",
          "name": "stderr",
          "text": [
            "INFO:werkzeug:127.0.0.1 - - [17/Nov/2023 23:47:07] \"POST /process_image HTTP/1.1\" 200 -\n"
          ]
        },
        {
          "output_type": "stream",
          "name": "stdout",
          "text": [
            "POST\n",
            "-----------------------------------------\n",
            "1/1 [==============================] - 0s 17ms/step\n"
          ]
        },
        {
          "output_type": "stream",
          "name": "stderr",
          "text": [
            "INFO:werkzeug:127.0.0.1 - - [17/Nov/2023 23:47:09] \"POST /process_image HTTP/1.1\" 200 -\n"
          ]
        }
      ]
    },
    {
      "cell_type": "code",
      "source": [],
      "metadata": {
        "id": "rFHyMBBdA2n0"
      },
      "execution_count": null,
      "outputs": []
    }
  ]
}